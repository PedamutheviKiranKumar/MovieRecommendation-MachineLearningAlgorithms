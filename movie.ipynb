{
  "nbformat": 4,
  "nbformat_minor": 0,
  "metadata": {
    "kernelspec": {
      "display_name": "Python 3",
      "language": "python",
      "name": "python3"
    },
    "language_info": {
      "codemirror_mode": {
        "name": "ipython",
        "version": 3
      },
      "file_extension": ".py",
      "mimetype": "text/x-python",
      "name": "python",
      "nbconvert_exporter": "python",
      "pygments_lexer": "ipython3",
      "version": "3.7.4"
    },
    "colab": {
      "name": "movie.ipynb",
      "provenance": [],
      "collapsed_sections": []
    },
    "accelerator": "GPU"
  },
  "cells": [
    {
      "cell_type": "code",
      "metadata": {
        "id": "Ssz6HTvuXe_s"
      },
      "source": [
        "import numpy as np \n",
        "import pandas as pd\n",
        "import matplotlib.pyplot as plt\n",
        "import seaborn as sns\n",
        "%matplotlib inline\n",
        "import os\n",
        "from sklearn.preprocessing import MinMaxScaler\n",
        "from sklearn.model_selection import cross_val_score\n",
        "from sklearn.feature_selection import SelectFromModel\n",
        "from sklearn import metrics\n",
        "from sklearn.model_selection import train_test_split,KFold,cross_val_score,GridSearchCV\n",
        "from sklearn.linear_model import LinearRegression\n",
        "from sklearn.neighbors import KNeighborsRegressor\n",
        "from sklearn.svm import SVR\n",
        "from sklearn.ensemble import RandomForestRegressor\n",
        "\n",
        "import warnings\n",
        "warnings.filterwarnings('ignore')"
      ],
      "execution_count": 1,
      "outputs": []
    },
    {
      "cell_type": "code",
      "metadata": {
        "id": "lOnNz16x5PGY"
      },
      "source": [
        "!pip install -U -q PyDrive\n",
        "from pydrive.auth import GoogleAuth\n",
        "from pydrive.drive import GoogleDrive\n",
        "from google.colab import auth\n",
        "from oauth2client.client import GoogleCredentials\n",
        "# Authenticate and create the PyDrive client.\n",
        "auth.authenticate_user()\n",
        "gauth = GoogleAuth()\n",
        "gauth.credentials = GoogleCredentials.get_application_default()\n",
        "drive = GoogleDrive(gauth)"
      ],
      "execution_count": 2,
      "outputs": []
    },
    {
      "cell_type": "code",
      "metadata": {
        "id": "2AwcLlgf5ZKX"
      },
      "source": [
        "downloaded = drive.CreateFile({'id':'15EOO-gPczWULVbR9NMH_-H4e9QElQJaD'}) # replace the id with id of file you want to access\n",
        "downloaded.GetContentFile('movie_metadata.csv')"
      ],
      "execution_count": 3,
      "outputs": []
    },
    {
      "cell_type": "code",
      "metadata": {
        "id": "xjKF3iVYXe_3"
      },
      "source": [
        "m_df=pd.read_csv('movie_metadata.csv')"
      ],
      "execution_count": 4,
      "outputs": []
    },
    {
      "cell_type": "code",
      "metadata": {
        "id": "wSQBV5V3XfAA",
        "outputId": "a09bbe1e-035d-4890-945f-668d6ef0b305",
        "colab": {
          "base_uri": "https://localhost:8080/",
          "height": 350
        }
      },
      "source": [
        "m_df.head()"
      ],
      "execution_count": 5,
      "outputs": [
        {
          "output_type": "execute_result",
          "data": {
            "text/html": [
              "<div>\n",
              "<style scoped>\n",
              "    .dataframe tbody tr th:only-of-type {\n",
              "        vertical-align: middle;\n",
              "    }\n",
              "\n",
              "    .dataframe tbody tr th {\n",
              "        vertical-align: top;\n",
              "    }\n",
              "\n",
              "    .dataframe thead th {\n",
              "        text-align: right;\n",
              "    }\n",
              "</style>\n",
              "<table border=\"1\" class=\"dataframe\">\n",
              "  <thead>\n",
              "    <tr style=\"text-align: right;\">\n",
              "      <th></th>\n",
              "      <th>color</th>\n",
              "      <th>director_name</th>\n",
              "      <th>num_critic_for_reviews</th>\n",
              "      <th>duration</th>\n",
              "      <th>director_facebook_likes</th>\n",
              "      <th>actor_3_facebook_likes</th>\n",
              "      <th>actor_2_name</th>\n",
              "      <th>actor_1_facebook_likes</th>\n",
              "      <th>gross</th>\n",
              "      <th>genres</th>\n",
              "      <th>actor_1_name</th>\n",
              "      <th>movie_title</th>\n",
              "      <th>num_voted_users</th>\n",
              "      <th>cast_total_facebook_likes</th>\n",
              "      <th>actor_3_name</th>\n",
              "      <th>facenumber_in_poster</th>\n",
              "      <th>plot_keywords</th>\n",
              "      <th>movie_imdb_link</th>\n",
              "      <th>num_user_for_reviews</th>\n",
              "      <th>language</th>\n",
              "      <th>country</th>\n",
              "      <th>content_rating</th>\n",
              "      <th>budget</th>\n",
              "      <th>title_year</th>\n",
              "      <th>actor_2_facebook_likes</th>\n",
              "      <th>imdb_score</th>\n",
              "      <th>aspect_ratio</th>\n",
              "      <th>movie_facebook_likes</th>\n",
              "    </tr>\n",
              "  </thead>\n",
              "  <tbody>\n",
              "    <tr>\n",
              "      <th>0</th>\n",
              "      <td>Color</td>\n",
              "      <td>James Cameron</td>\n",
              "      <td>723.0</td>\n",
              "      <td>178.0</td>\n",
              "      <td>0.0</td>\n",
              "      <td>855.0</td>\n",
              "      <td>Joel David Moore</td>\n",
              "      <td>1000.0</td>\n",
              "      <td>760505847.0</td>\n",
              "      <td>Action|Adventure|Fantasy|Sci-Fi</td>\n",
              "      <td>CCH Pounder</td>\n",
              "      <td>Avatar</td>\n",
              "      <td>886204</td>\n",
              "      <td>4834</td>\n",
              "      <td>Wes Studi</td>\n",
              "      <td>0.0</td>\n",
              "      <td>avatar|future|marine|native|paraplegic</td>\n",
              "      <td>http://www.imdb.com/title/tt0499549/?ref_=fn_t...</td>\n",
              "      <td>3054.0</td>\n",
              "      <td>English</td>\n",
              "      <td>USA</td>\n",
              "      <td>PG-13</td>\n",
              "      <td>237000000.0</td>\n",
              "      <td>2009.0</td>\n",
              "      <td>936.0</td>\n",
              "      <td>7.9</td>\n",
              "      <td>1.78</td>\n",
              "      <td>33000</td>\n",
              "    </tr>\n",
              "    <tr>\n",
              "      <th>1</th>\n",
              "      <td>Color</td>\n",
              "      <td>Gore Verbinski</td>\n",
              "      <td>302.0</td>\n",
              "      <td>169.0</td>\n",
              "      <td>563.0</td>\n",
              "      <td>1000.0</td>\n",
              "      <td>Orlando Bloom</td>\n",
              "      <td>40000.0</td>\n",
              "      <td>309404152.0</td>\n",
              "      <td>Action|Adventure|Fantasy</td>\n",
              "      <td>Johnny Depp</td>\n",
              "      <td>Pirates of the Caribbean: At World's End</td>\n",
              "      <td>471220</td>\n",
              "      <td>48350</td>\n",
              "      <td>Jack Davenport</td>\n",
              "      <td>0.0</td>\n",
              "      <td>goddess|marriage ceremony|marriage proposal|pi...</td>\n",
              "      <td>http://www.imdb.com/title/tt0449088/?ref_=fn_t...</td>\n",
              "      <td>1238.0</td>\n",
              "      <td>English</td>\n",
              "      <td>USA</td>\n",
              "      <td>PG-13</td>\n",
              "      <td>300000000.0</td>\n",
              "      <td>2007.0</td>\n",
              "      <td>5000.0</td>\n",
              "      <td>7.1</td>\n",
              "      <td>2.35</td>\n",
              "      <td>0</td>\n",
              "    </tr>\n",
              "    <tr>\n",
              "      <th>2</th>\n",
              "      <td>Color</td>\n",
              "      <td>Sam Mendes</td>\n",
              "      <td>602.0</td>\n",
              "      <td>148.0</td>\n",
              "      <td>0.0</td>\n",
              "      <td>161.0</td>\n",
              "      <td>Rory Kinnear</td>\n",
              "      <td>11000.0</td>\n",
              "      <td>200074175.0</td>\n",
              "      <td>Action|Adventure|Thriller</td>\n",
              "      <td>Christoph Waltz</td>\n",
              "      <td>Spectre</td>\n",
              "      <td>275868</td>\n",
              "      <td>11700</td>\n",
              "      <td>Stephanie Sigman</td>\n",
              "      <td>1.0</td>\n",
              "      <td>bomb|espionage|sequel|spy|terrorist</td>\n",
              "      <td>http://www.imdb.com/title/tt2379713/?ref_=fn_t...</td>\n",
              "      <td>994.0</td>\n",
              "      <td>English</td>\n",
              "      <td>UK</td>\n",
              "      <td>PG-13</td>\n",
              "      <td>245000000.0</td>\n",
              "      <td>2015.0</td>\n",
              "      <td>393.0</td>\n",
              "      <td>6.8</td>\n",
              "      <td>2.35</td>\n",
              "      <td>85000</td>\n",
              "    </tr>\n",
              "    <tr>\n",
              "      <th>3</th>\n",
              "      <td>Color</td>\n",
              "      <td>Christopher Nolan</td>\n",
              "      <td>813.0</td>\n",
              "      <td>164.0</td>\n",
              "      <td>22000.0</td>\n",
              "      <td>23000.0</td>\n",
              "      <td>Christian Bale</td>\n",
              "      <td>27000.0</td>\n",
              "      <td>448130642.0</td>\n",
              "      <td>Action|Thriller</td>\n",
              "      <td>Tom Hardy</td>\n",
              "      <td>The Dark Knight Rises</td>\n",
              "      <td>1144337</td>\n",
              "      <td>106759</td>\n",
              "      <td>Joseph Gordon-Levitt</td>\n",
              "      <td>0.0</td>\n",
              "      <td>deception|imprisonment|lawlessness|police offi...</td>\n",
              "      <td>http://www.imdb.com/title/tt1345836/?ref_=fn_t...</td>\n",
              "      <td>2701.0</td>\n",
              "      <td>English</td>\n",
              "      <td>USA</td>\n",
              "      <td>PG-13</td>\n",
              "      <td>250000000.0</td>\n",
              "      <td>2012.0</td>\n",
              "      <td>23000.0</td>\n",
              "      <td>8.5</td>\n",
              "      <td>2.35</td>\n",
              "      <td>164000</td>\n",
              "    </tr>\n",
              "    <tr>\n",
              "      <th>4</th>\n",
              "      <td>NaN</td>\n",
              "      <td>Doug Walker</td>\n",
              "      <td>NaN</td>\n",
              "      <td>NaN</td>\n",
              "      <td>131.0</td>\n",
              "      <td>NaN</td>\n",
              "      <td>Rob Walker</td>\n",
              "      <td>131.0</td>\n",
              "      <td>NaN</td>\n",
              "      <td>Documentary</td>\n",
              "      <td>Doug Walker</td>\n",
              "      <td>Star Wars: Episode VII - The Force Awakens    ...</td>\n",
              "      <td>8</td>\n",
              "      <td>143</td>\n",
              "      <td>NaN</td>\n",
              "      <td>0.0</td>\n",
              "      <td>NaN</td>\n",
              "      <td>http://www.imdb.com/title/tt5289954/?ref_=fn_t...</td>\n",
              "      <td>NaN</td>\n",
              "      <td>NaN</td>\n",
              "      <td>NaN</td>\n",
              "      <td>NaN</td>\n",
              "      <td>NaN</td>\n",
              "      <td>NaN</td>\n",
              "      <td>12.0</td>\n",
              "      <td>7.1</td>\n",
              "      <td>NaN</td>\n",
              "      <td>0</td>\n",
              "    </tr>\n",
              "  </tbody>\n",
              "</table>\n",
              "</div>"
            ],
            "text/plain": [
              "   color      director_name  ...  aspect_ratio  movie_facebook_likes\n",
              "0  Color      James Cameron  ...          1.78                 33000\n",
              "1  Color     Gore Verbinski  ...          2.35                     0\n",
              "2  Color         Sam Mendes  ...          2.35                 85000\n",
              "3  Color  Christopher Nolan  ...          2.35                164000\n",
              "4    NaN        Doug Walker  ...           NaN                     0\n",
              "\n",
              "[5 rows x 28 columns]"
            ]
          },
          "metadata": {
            "tags": []
          },
          "execution_count": 5
        }
      ]
    },
    {
      "cell_type": "code",
      "metadata": {
        "id": "dSN1X7y5XfAF",
        "outputId": "816d1d2e-4ba6-4f59-8c70-2d36d99fff95",
        "colab": {
          "base_uri": "https://localhost:8080/"
        }
      },
      "source": [
        "m_df.shape"
      ],
      "execution_count": 6,
      "outputs": [
        {
          "output_type": "execute_result",
          "data": {
            "text/plain": [
              "(5043, 28)"
            ]
          },
          "metadata": {
            "tags": []
          },
          "execution_count": 6
        }
      ]
    },
    {
      "cell_type": "code",
      "metadata": {
        "id": "0KWv8oqMXfAJ",
        "outputId": "31942a44-193e-47d2-b268-75ae503d07bd",
        "colab": {
          "base_uri": "https://localhost:8080/"
        }
      },
      "source": [
        "m_df.columns"
      ],
      "execution_count": 7,
      "outputs": [
        {
          "output_type": "execute_result",
          "data": {
            "text/plain": [
              "Index(['color', 'director_name', 'num_critic_for_reviews', 'duration',\n",
              "       'director_facebook_likes', 'actor_3_facebook_likes', 'actor_2_name',\n",
              "       'actor_1_facebook_likes', 'gross', 'genres', 'actor_1_name',\n",
              "       'movie_title', 'num_voted_users', 'cast_total_facebook_likes',\n",
              "       'actor_3_name', 'facenumber_in_poster', 'plot_keywords',\n",
              "       'movie_imdb_link', 'num_user_for_reviews', 'language', 'country',\n",
              "       'content_rating', 'budget', 'title_year', 'actor_2_facebook_likes',\n",
              "       'imdb_score', 'aspect_ratio', 'movie_facebook_likes'],\n",
              "      dtype='object')"
            ]
          },
          "metadata": {
            "tags": []
          },
          "execution_count": 7
        }
      ]
    },
    {
      "cell_type": "code",
      "metadata": {
        "id": "RlWsZlaMXfAM",
        "outputId": "0849d6af-891e-4c8f-8f8b-49753ee05fff",
        "colab": {
          "base_uri": "https://localhost:8080/",
          "height": 304
        }
      },
      "source": [
        "m_df.describe()"
      ],
      "execution_count": 8,
      "outputs": [
        {
          "output_type": "execute_result",
          "data": {
            "text/html": [
              "<div>\n",
              "<style scoped>\n",
              "    .dataframe tbody tr th:only-of-type {\n",
              "        vertical-align: middle;\n",
              "    }\n",
              "\n",
              "    .dataframe tbody tr th {\n",
              "        vertical-align: top;\n",
              "    }\n",
              "\n",
              "    .dataframe thead th {\n",
              "        text-align: right;\n",
              "    }\n",
              "</style>\n",
              "<table border=\"1\" class=\"dataframe\">\n",
              "  <thead>\n",
              "    <tr style=\"text-align: right;\">\n",
              "      <th></th>\n",
              "      <th>num_critic_for_reviews</th>\n",
              "      <th>duration</th>\n",
              "      <th>director_facebook_likes</th>\n",
              "      <th>actor_3_facebook_likes</th>\n",
              "      <th>actor_1_facebook_likes</th>\n",
              "      <th>gross</th>\n",
              "      <th>num_voted_users</th>\n",
              "      <th>cast_total_facebook_likes</th>\n",
              "      <th>facenumber_in_poster</th>\n",
              "      <th>num_user_for_reviews</th>\n",
              "      <th>budget</th>\n",
              "      <th>title_year</th>\n",
              "      <th>actor_2_facebook_likes</th>\n",
              "      <th>imdb_score</th>\n",
              "      <th>aspect_ratio</th>\n",
              "      <th>movie_facebook_likes</th>\n",
              "    </tr>\n",
              "  </thead>\n",
              "  <tbody>\n",
              "    <tr>\n",
              "      <th>count</th>\n",
              "      <td>4993.000000</td>\n",
              "      <td>5028.000000</td>\n",
              "      <td>4939.000000</td>\n",
              "      <td>5020.000000</td>\n",
              "      <td>5036.000000</td>\n",
              "      <td>4.159000e+03</td>\n",
              "      <td>5.043000e+03</td>\n",
              "      <td>5043.000000</td>\n",
              "      <td>5030.000000</td>\n",
              "      <td>5022.000000</td>\n",
              "      <td>4.551000e+03</td>\n",
              "      <td>4935.000000</td>\n",
              "      <td>5030.000000</td>\n",
              "      <td>5043.000000</td>\n",
              "      <td>4714.000000</td>\n",
              "      <td>5043.000000</td>\n",
              "    </tr>\n",
              "    <tr>\n",
              "      <th>mean</th>\n",
              "      <td>140.194272</td>\n",
              "      <td>107.201074</td>\n",
              "      <td>686.509212</td>\n",
              "      <td>645.009761</td>\n",
              "      <td>6560.047061</td>\n",
              "      <td>4.846841e+07</td>\n",
              "      <td>8.366816e+04</td>\n",
              "      <td>9699.063851</td>\n",
              "      <td>1.371173</td>\n",
              "      <td>272.770808</td>\n",
              "      <td>3.975262e+07</td>\n",
              "      <td>2002.470517</td>\n",
              "      <td>1651.754473</td>\n",
              "      <td>6.442138</td>\n",
              "      <td>2.220403</td>\n",
              "      <td>7525.964505</td>\n",
              "    </tr>\n",
              "    <tr>\n",
              "      <th>std</th>\n",
              "      <td>121.601675</td>\n",
              "      <td>25.197441</td>\n",
              "      <td>2813.328607</td>\n",
              "      <td>1665.041728</td>\n",
              "      <td>15020.759120</td>\n",
              "      <td>6.845299e+07</td>\n",
              "      <td>1.384853e+05</td>\n",
              "      <td>18163.799124</td>\n",
              "      <td>2.013576</td>\n",
              "      <td>377.982886</td>\n",
              "      <td>2.061149e+08</td>\n",
              "      <td>12.474599</td>\n",
              "      <td>4042.438863</td>\n",
              "      <td>1.125116</td>\n",
              "      <td>1.385113</td>\n",
              "      <td>19320.445110</td>\n",
              "    </tr>\n",
              "    <tr>\n",
              "      <th>min</th>\n",
              "      <td>1.000000</td>\n",
              "      <td>7.000000</td>\n",
              "      <td>0.000000</td>\n",
              "      <td>0.000000</td>\n",
              "      <td>0.000000</td>\n",
              "      <td>1.620000e+02</td>\n",
              "      <td>5.000000e+00</td>\n",
              "      <td>0.000000</td>\n",
              "      <td>0.000000</td>\n",
              "      <td>1.000000</td>\n",
              "      <td>2.180000e+02</td>\n",
              "      <td>1916.000000</td>\n",
              "      <td>0.000000</td>\n",
              "      <td>1.600000</td>\n",
              "      <td>1.180000</td>\n",
              "      <td>0.000000</td>\n",
              "    </tr>\n",
              "    <tr>\n",
              "      <th>25%</th>\n",
              "      <td>50.000000</td>\n",
              "      <td>93.000000</td>\n",
              "      <td>7.000000</td>\n",
              "      <td>133.000000</td>\n",
              "      <td>614.000000</td>\n",
              "      <td>5.340988e+06</td>\n",
              "      <td>8.593500e+03</td>\n",
              "      <td>1411.000000</td>\n",
              "      <td>0.000000</td>\n",
              "      <td>65.000000</td>\n",
              "      <td>6.000000e+06</td>\n",
              "      <td>1999.000000</td>\n",
              "      <td>281.000000</td>\n",
              "      <td>5.800000</td>\n",
              "      <td>1.850000</td>\n",
              "      <td>0.000000</td>\n",
              "    </tr>\n",
              "    <tr>\n",
              "      <th>50%</th>\n",
              "      <td>110.000000</td>\n",
              "      <td>103.000000</td>\n",
              "      <td>49.000000</td>\n",
              "      <td>371.500000</td>\n",
              "      <td>988.000000</td>\n",
              "      <td>2.551750e+07</td>\n",
              "      <td>3.435900e+04</td>\n",
              "      <td>3090.000000</td>\n",
              "      <td>1.000000</td>\n",
              "      <td>156.000000</td>\n",
              "      <td>2.000000e+07</td>\n",
              "      <td>2005.000000</td>\n",
              "      <td>595.000000</td>\n",
              "      <td>6.600000</td>\n",
              "      <td>2.350000</td>\n",
              "      <td>166.000000</td>\n",
              "    </tr>\n",
              "    <tr>\n",
              "      <th>75%</th>\n",
              "      <td>195.000000</td>\n",
              "      <td>118.000000</td>\n",
              "      <td>194.500000</td>\n",
              "      <td>636.000000</td>\n",
              "      <td>11000.000000</td>\n",
              "      <td>6.230944e+07</td>\n",
              "      <td>9.630900e+04</td>\n",
              "      <td>13756.500000</td>\n",
              "      <td>2.000000</td>\n",
              "      <td>326.000000</td>\n",
              "      <td>4.500000e+07</td>\n",
              "      <td>2011.000000</td>\n",
              "      <td>918.000000</td>\n",
              "      <td>7.200000</td>\n",
              "      <td>2.350000</td>\n",
              "      <td>3000.000000</td>\n",
              "    </tr>\n",
              "    <tr>\n",
              "      <th>max</th>\n",
              "      <td>813.000000</td>\n",
              "      <td>511.000000</td>\n",
              "      <td>23000.000000</td>\n",
              "      <td>23000.000000</td>\n",
              "      <td>640000.000000</td>\n",
              "      <td>7.605058e+08</td>\n",
              "      <td>1.689764e+06</td>\n",
              "      <td>656730.000000</td>\n",
              "      <td>43.000000</td>\n",
              "      <td>5060.000000</td>\n",
              "      <td>1.221550e+10</td>\n",
              "      <td>2016.000000</td>\n",
              "      <td>137000.000000</td>\n",
              "      <td>9.500000</td>\n",
              "      <td>16.000000</td>\n",
              "      <td>349000.000000</td>\n",
              "    </tr>\n",
              "  </tbody>\n",
              "</table>\n",
              "</div>"
            ],
            "text/plain": [
              "       num_critic_for_reviews     duration  ...  aspect_ratio  movie_facebook_likes\n",
              "count             4993.000000  5028.000000  ...   4714.000000           5043.000000\n",
              "mean               140.194272   107.201074  ...      2.220403           7525.964505\n",
              "std                121.601675    25.197441  ...      1.385113          19320.445110\n",
              "min                  1.000000     7.000000  ...      1.180000              0.000000\n",
              "25%                 50.000000    93.000000  ...      1.850000              0.000000\n",
              "50%                110.000000   103.000000  ...      2.350000            166.000000\n",
              "75%                195.000000   118.000000  ...      2.350000           3000.000000\n",
              "max                813.000000   511.000000  ...     16.000000         349000.000000\n",
              "\n",
              "[8 rows x 16 columns]"
            ]
          },
          "metadata": {
            "tags": []
          },
          "execution_count": 8
        }
      ]
    },
    {
      "cell_type": "code",
      "metadata": {
        "id": "I3bPLcRDXfAP",
        "outputId": "0eaea75b-efac-473d-d7d0-10f3fd28e312",
        "colab": {
          "base_uri": "https://localhost:8080/"
        }
      },
      "source": [
        "m_df.isna().sum()"
      ],
      "execution_count": 9,
      "outputs": [
        {
          "output_type": "execute_result",
          "data": {
            "text/plain": [
              "color                         19\n",
              "director_name                104\n",
              "num_critic_for_reviews        50\n",
              "duration                      15\n",
              "director_facebook_likes      104\n",
              "actor_3_facebook_likes        23\n",
              "actor_2_name                  13\n",
              "actor_1_facebook_likes         7\n",
              "gross                        884\n",
              "genres                         0\n",
              "actor_1_name                   7\n",
              "movie_title                    0\n",
              "num_voted_users                0\n",
              "cast_total_facebook_likes      0\n",
              "actor_3_name                  23\n",
              "facenumber_in_poster          13\n",
              "plot_keywords                153\n",
              "movie_imdb_link                0\n",
              "num_user_for_reviews          21\n",
              "language                      12\n",
              "country                        5\n",
              "content_rating               303\n",
              "budget                       492\n",
              "title_year                   108\n",
              "actor_2_facebook_likes        13\n",
              "imdb_score                     0\n",
              "aspect_ratio                 329\n",
              "movie_facebook_likes           0\n",
              "dtype: int64"
            ]
          },
          "metadata": {
            "tags": []
          },
          "execution_count": 9
        }
      ]
    },
    {
      "cell_type": "code",
      "metadata": {
        "id": "BWiKLu6gXfAT"
      },
      "source": [
        "m_df.dropna(axis=0,subset=['director_name', 'num_critic_for_reviews','duration','director_facebook_likes','actor_3_facebook_likes','actor_2_name','actor_1_facebook_likes','actor_1_name','actor_3_name','facenumber_in_poster','num_user_for_reviews','language','country','actor_2_facebook_likes','plot_keywords'],inplace=True)"
      ],
      "execution_count": 10,
      "outputs": []
    },
    {
      "cell_type": "code",
      "metadata": {
        "id": "si-7Ru_BXfAX"
      },
      "source": [
        "#dropping the imdb link from dataset\n",
        "m_df.drop('movie_imdb_link', axis=1, inplace=True)"
      ],
      "execution_count": 11,
      "outputs": []
    },
    {
      "cell_type": "code",
      "metadata": {
        "id": "oo5oePfOXfAa",
        "outputId": "7f8eef3b-617f-4ec9-87c5-9539853a4d11",
        "colab": {
          "base_uri": "https://localhost:8080/"
        }
      },
      "source": [
        "m_df[\"color\"].value_counts()"
      ],
      "execution_count": 12,
      "outputs": [
        {
          "output_type": "execute_result",
          "data": {
            "text/plain": [
              "Color               4529\n",
              " Black and White     200\n",
              "Name: color, dtype: int64"
            ]
          },
          "metadata": {
            "tags": []
          },
          "execution_count": 12
        }
      ]
    },
    {
      "cell_type": "code",
      "metadata": {
        "id": "HByQbPw-XfAd"
      },
      "source": [
        "#removing the 'color' section as most of the movies is colored\n",
        "m_df.drop('color',axis=1,inplace=True)"
      ],
      "execution_count": 13,
      "outputs": []
    },
    {
      "cell_type": "code",
      "metadata": {
        "id": "P5UW5EHEXfAg",
        "outputId": "964ad527-1eab-46e0-de48-c5cf22aa00a1",
        "colab": {
          "base_uri": "https://localhost:8080/"
        }
      },
      "source": [
        "m_df.shape"
      ],
      "execution_count": 14,
      "outputs": [
        {
          "output_type": "execute_result",
          "data": {
            "text/plain": [
              "(4737, 26)"
            ]
          },
          "metadata": {
            "tags": []
          },
          "execution_count": 14
        }
      ]
    },
    {
      "cell_type": "code",
      "metadata": {
        "id": "owy6aM61XfAm"
      },
      "source": [
        "m_df[\"content_rating\"].fillna(\"R\", inplace = True)"
      ],
      "execution_count": 15,
      "outputs": []
    },
    {
      "cell_type": "code",
      "metadata": {
        "id": "hRd72kNLXfAp"
      },
      "source": [
        "#Replacing the aspect_ratio with the median of the value as the graph is right skewed\n",
        "m_df[\"aspect_ratio\"].fillna(m_df[\"aspect_ratio\"].median(),inplace=True)"
      ],
      "execution_count": 16,
      "outputs": []
    },
    {
      "cell_type": "code",
      "metadata": {
        "id": "nFGnqMQqXfAs"
      },
      "source": [
        "#We need to replace the value in budget with the median of the value\n",
        "m_df[\"budget\"].fillna(m_df[\"budget\"].median(),inplace=True)"
      ],
      "execution_count": 17,
      "outputs": []
    },
    {
      "cell_type": "code",
      "metadata": {
        "id": "kR66L9_6XfAw"
      },
      "source": [
        "# We need to replace the value in gross with the median of the value\n",
        "m_df['gross'].fillna(m_df['gross'].median(),inplace=True)"
      ],
      "execution_count": 18,
      "outputs": []
    },
    {
      "cell_type": "code",
      "metadata": {
        "id": "A4iiTztcXfAy",
        "outputId": "04698c0c-9fa1-45e1-9cea-e143b147b3b9",
        "colab": {
          "base_uri": "https://localhost:8080/"
        }
      },
      "source": [
        "# Recheck that all the null values are removed\n",
        "m_df.isna().sum()"
      ],
      "execution_count": 19,
      "outputs": [
        {
          "output_type": "execute_result",
          "data": {
            "text/plain": [
              "director_name                0\n",
              "num_critic_for_reviews       0\n",
              "duration                     0\n",
              "director_facebook_likes      0\n",
              "actor_3_facebook_likes       0\n",
              "actor_2_name                 0\n",
              "actor_1_facebook_likes       0\n",
              "gross                        0\n",
              "genres                       0\n",
              "actor_1_name                 0\n",
              "movie_title                  0\n",
              "num_voted_users              0\n",
              "cast_total_facebook_likes    0\n",
              "actor_3_name                 0\n",
              "facenumber_in_poster         0\n",
              "plot_keywords                0\n",
              "num_user_for_reviews         0\n",
              "language                     0\n",
              "country                      0\n",
              "content_rating               0\n",
              "budget                       0\n",
              "title_year                   0\n",
              "actor_2_facebook_likes       0\n",
              "imdb_score                   0\n",
              "aspect_ratio                 0\n",
              "movie_facebook_likes         0\n",
              "dtype: int64"
            ]
          },
          "metadata": {
            "tags": []
          },
          "execution_count": 19
        }
      ]
    },
    {
      "cell_type": "code",
      "metadata": {
        "id": "OrbTHb84XfA2"
      },
      "source": [
        "#Removing the duplicate values in the datset\n",
        "m_df.drop_duplicates(inplace=True)"
      ],
      "execution_count": 20,
      "outputs": []
    },
    {
      "cell_type": "code",
      "metadata": {
        "id": "b64jkWS8XfA4",
        "outputId": "efdafe9b-dd9d-4e76-a0ea-6822c67caae7",
        "colab": {
          "base_uri": "https://localhost:8080/"
        }
      },
      "source": [
        "m_df.shape"
      ],
      "execution_count": 21,
      "outputs": [
        {
          "output_type": "execute_result",
          "data": {
            "text/plain": [
              "(4695, 26)"
            ]
          },
          "metadata": {
            "tags": []
          },
          "execution_count": 21
        }
      ]
    },
    {
      "cell_type": "code",
      "metadata": {
        "id": "kboDVh2yXfA8",
        "outputId": "d05e3700-aa9f-467a-f082-bf08488446be",
        "colab": {
          "base_uri": "https://localhost:8080/"
        }
      },
      "source": [
        "m_df[\"language\"].value_counts()"
      ],
      "execution_count": 22,
      "outputs": [
        {
          "output_type": "execute_result",
          "data": {
            "text/plain": [
              "English       4405\n",
              "French          69\n",
              "Spanish         35\n",
              "Hindi           25\n",
              "Mandarin        24\n",
              "German          18\n",
              "Japanese        16\n",
              "Russian         11\n",
              "Cantonese       10\n",
              "Italian         10\n",
              "Portuguese       8\n",
              "Korean           8\n",
              "Danish           5\n",
              "Swedish          4\n",
              "Hebrew           4\n",
              "Dutch            4\n",
              "Norwegian        4\n",
              "Persian          4\n",
              "Arabic           3\n",
              "Thai             3\n",
              "Indonesian       2\n",
              "None             2\n",
              "Aboriginal       2\n",
              "Zulu             2\n",
              "Dari             2\n",
              "Vietnamese       1\n",
              "Bosnian          1\n",
              "Dzongkha         1\n",
              "Aramaic          1\n",
              "Kazakh           1\n",
              "Icelandic        1\n",
              "Greek            1\n",
              "Polish           1\n",
              "Hungarian        1\n",
              "Telugu           1\n",
              "Filipino         1\n",
              "Romanian         1\n",
              "Maya             1\n",
              "Czech            1\n",
              "Mongolian        1\n",
              "Name: language, dtype: int64"
            ]
          },
          "metadata": {
            "tags": []
          },
          "execution_count": 22
        }
      ]
    },
    {
      "cell_type": "code",
      "metadata": {
        "id": "IMzexYcjXfA_"
      },
      "source": [
        "#Most of the values for the languages is english we can drop the english column\n",
        "m_df.drop('language',axis=1,inplace=True)"
      ],
      "execution_count": 23,
      "outputs": []
    },
    {
      "cell_type": "code",
      "metadata": {
        "id": "BNdNkP_LXfBC"
      },
      "source": [
        "#Creating a new column to check the net profit made by the company (Gross-Budget) \n",
        "m_df[\"Profit\"]=m_df['gross'].sub(m_df['budget'], axis = 0) "
      ],
      "execution_count": 24,
      "outputs": []
    },
    {
      "cell_type": "code",
      "metadata": {
        "id": "fEgc9bwAXfBF",
        "outputId": "00969381-7392-426d-ace6-d184bb357d37",
        "colab": {
          "base_uri": "https://localhost:8080/",
          "height": 623
        }
      },
      "source": [
        "#Creating a new column to check the profit percentage made by the company \n",
        "m_df['Profit_Percentage']=(m_df[\"Profit\"]/m_df[\"gross\"])*100\n",
        "m_df"
      ],
      "execution_count": 25,
      "outputs": [
        {
          "output_type": "execute_result",
          "data": {
            "text/html": [
              "<div>\n",
              "<style scoped>\n",
              "    .dataframe tbody tr th:only-of-type {\n",
              "        vertical-align: middle;\n",
              "    }\n",
              "\n",
              "    .dataframe tbody tr th {\n",
              "        vertical-align: top;\n",
              "    }\n",
              "\n",
              "    .dataframe thead th {\n",
              "        text-align: right;\n",
              "    }\n",
              "</style>\n",
              "<table border=\"1\" class=\"dataframe\">\n",
              "  <thead>\n",
              "    <tr style=\"text-align: right;\">\n",
              "      <th></th>\n",
              "      <th>director_name</th>\n",
              "      <th>num_critic_for_reviews</th>\n",
              "      <th>duration</th>\n",
              "      <th>director_facebook_likes</th>\n",
              "      <th>actor_3_facebook_likes</th>\n",
              "      <th>actor_2_name</th>\n",
              "      <th>actor_1_facebook_likes</th>\n",
              "      <th>gross</th>\n",
              "      <th>genres</th>\n",
              "      <th>actor_1_name</th>\n",
              "      <th>movie_title</th>\n",
              "      <th>num_voted_users</th>\n",
              "      <th>cast_total_facebook_likes</th>\n",
              "      <th>actor_3_name</th>\n",
              "      <th>facenumber_in_poster</th>\n",
              "      <th>plot_keywords</th>\n",
              "      <th>num_user_for_reviews</th>\n",
              "      <th>country</th>\n",
              "      <th>content_rating</th>\n",
              "      <th>budget</th>\n",
              "      <th>title_year</th>\n",
              "      <th>actor_2_facebook_likes</th>\n",
              "      <th>imdb_score</th>\n",
              "      <th>aspect_ratio</th>\n",
              "      <th>movie_facebook_likes</th>\n",
              "      <th>Profit</th>\n",
              "      <th>Profit_Percentage</th>\n",
              "    </tr>\n",
              "  </thead>\n",
              "  <tbody>\n",
              "    <tr>\n",
              "      <th>0</th>\n",
              "      <td>James Cameron</td>\n",
              "      <td>723.0</td>\n",
              "      <td>178.0</td>\n",
              "      <td>0.0</td>\n",
              "      <td>855.0</td>\n",
              "      <td>Joel David Moore</td>\n",
              "      <td>1000.0</td>\n",
              "      <td>760505847.0</td>\n",
              "      <td>Action|Adventure|Fantasy|Sci-Fi</td>\n",
              "      <td>CCH Pounder</td>\n",
              "      <td>Avatar</td>\n",
              "      <td>886204</td>\n",
              "      <td>4834</td>\n",
              "      <td>Wes Studi</td>\n",
              "      <td>0.0</td>\n",
              "      <td>avatar|future|marine|native|paraplegic</td>\n",
              "      <td>3054.0</td>\n",
              "      <td>USA</td>\n",
              "      <td>PG-13</td>\n",
              "      <td>237000000.0</td>\n",
              "      <td>2009.0</td>\n",
              "      <td>936.0</td>\n",
              "      <td>7.9</td>\n",
              "      <td>1.78</td>\n",
              "      <td>33000</td>\n",
              "      <td>523505847.0</td>\n",
              "      <td>68.836532</td>\n",
              "    </tr>\n",
              "    <tr>\n",
              "      <th>1</th>\n",
              "      <td>Gore Verbinski</td>\n",
              "      <td>302.0</td>\n",
              "      <td>169.0</td>\n",
              "      <td>563.0</td>\n",
              "      <td>1000.0</td>\n",
              "      <td>Orlando Bloom</td>\n",
              "      <td>40000.0</td>\n",
              "      <td>309404152.0</td>\n",
              "      <td>Action|Adventure|Fantasy</td>\n",
              "      <td>Johnny Depp</td>\n",
              "      <td>Pirates of the Caribbean: At World's End</td>\n",
              "      <td>471220</td>\n",
              "      <td>48350</td>\n",
              "      <td>Jack Davenport</td>\n",
              "      <td>0.0</td>\n",
              "      <td>goddess|marriage ceremony|marriage proposal|pi...</td>\n",
              "      <td>1238.0</td>\n",
              "      <td>USA</td>\n",
              "      <td>PG-13</td>\n",
              "      <td>300000000.0</td>\n",
              "      <td>2007.0</td>\n",
              "      <td>5000.0</td>\n",
              "      <td>7.1</td>\n",
              "      <td>2.35</td>\n",
              "      <td>0</td>\n",
              "      <td>9404152.0</td>\n",
              "      <td>3.039439</td>\n",
              "    </tr>\n",
              "    <tr>\n",
              "      <th>2</th>\n",
              "      <td>Sam Mendes</td>\n",
              "      <td>602.0</td>\n",
              "      <td>148.0</td>\n",
              "      <td>0.0</td>\n",
              "      <td>161.0</td>\n",
              "      <td>Rory Kinnear</td>\n",
              "      <td>11000.0</td>\n",
              "      <td>200074175.0</td>\n",
              "      <td>Action|Adventure|Thriller</td>\n",
              "      <td>Christoph Waltz</td>\n",
              "      <td>Spectre</td>\n",
              "      <td>275868</td>\n",
              "      <td>11700</td>\n",
              "      <td>Stephanie Sigman</td>\n",
              "      <td>1.0</td>\n",
              "      <td>bomb|espionage|sequel|spy|terrorist</td>\n",
              "      <td>994.0</td>\n",
              "      <td>UK</td>\n",
              "      <td>PG-13</td>\n",
              "      <td>245000000.0</td>\n",
              "      <td>2015.0</td>\n",
              "      <td>393.0</td>\n",
              "      <td>6.8</td>\n",
              "      <td>2.35</td>\n",
              "      <td>85000</td>\n",
              "      <td>-44925825.0</td>\n",
              "      <td>-22.454585</td>\n",
              "    </tr>\n",
              "    <tr>\n",
              "      <th>3</th>\n",
              "      <td>Christopher Nolan</td>\n",
              "      <td>813.0</td>\n",
              "      <td>164.0</td>\n",
              "      <td>22000.0</td>\n",
              "      <td>23000.0</td>\n",
              "      <td>Christian Bale</td>\n",
              "      <td>27000.0</td>\n",
              "      <td>448130642.0</td>\n",
              "      <td>Action|Thriller</td>\n",
              "      <td>Tom Hardy</td>\n",
              "      <td>The Dark Knight Rises</td>\n",
              "      <td>1144337</td>\n",
              "      <td>106759</td>\n",
              "      <td>Joseph Gordon-Levitt</td>\n",
              "      <td>0.0</td>\n",
              "      <td>deception|imprisonment|lawlessness|police offi...</td>\n",
              "      <td>2701.0</td>\n",
              "      <td>USA</td>\n",
              "      <td>PG-13</td>\n",
              "      <td>250000000.0</td>\n",
              "      <td>2012.0</td>\n",
              "      <td>23000.0</td>\n",
              "      <td>8.5</td>\n",
              "      <td>2.35</td>\n",
              "      <td>164000</td>\n",
              "      <td>198130642.0</td>\n",
              "      <td>44.212697</td>\n",
              "    </tr>\n",
              "    <tr>\n",
              "      <th>5</th>\n",
              "      <td>Andrew Stanton</td>\n",
              "      <td>462.0</td>\n",
              "      <td>132.0</td>\n",
              "      <td>475.0</td>\n",
              "      <td>530.0</td>\n",
              "      <td>Samantha Morton</td>\n",
              "      <td>640.0</td>\n",
              "      <td>73058679.0</td>\n",
              "      <td>Action|Adventure|Sci-Fi</td>\n",
              "      <td>Daryl Sabara</td>\n",
              "      <td>John Carter</td>\n",
              "      <td>212204</td>\n",
              "      <td>1873</td>\n",
              "      <td>Polly Walker</td>\n",
              "      <td>1.0</td>\n",
              "      <td>alien|american civil war|male nipple|mars|prin...</td>\n",
              "      <td>738.0</td>\n",
              "      <td>USA</td>\n",
              "      <td>PG-13</td>\n",
              "      <td>263700000.0</td>\n",
              "      <td>2012.0</td>\n",
              "      <td>632.0</td>\n",
              "      <td>6.6</td>\n",
              "      <td>2.35</td>\n",
              "      <td>24000</td>\n",
              "      <td>-190641321.0</td>\n",
              "      <td>-260.942743</td>\n",
              "    </tr>\n",
              "    <tr>\n",
              "      <th>...</th>\n",
              "      <td>...</td>\n",
              "      <td>...</td>\n",
              "      <td>...</td>\n",
              "      <td>...</td>\n",
              "      <td>...</td>\n",
              "      <td>...</td>\n",
              "      <td>...</td>\n",
              "      <td>...</td>\n",
              "      <td>...</td>\n",
              "      <td>...</td>\n",
              "      <td>...</td>\n",
              "      <td>...</td>\n",
              "      <td>...</td>\n",
              "      <td>...</td>\n",
              "      <td>...</td>\n",
              "      <td>...</td>\n",
              "      <td>...</td>\n",
              "      <td>...</td>\n",
              "      <td>...</td>\n",
              "      <td>...</td>\n",
              "      <td>...</td>\n",
              "      <td>...</td>\n",
              "      <td>...</td>\n",
              "      <td>...</td>\n",
              "      <td>...</td>\n",
              "      <td>...</td>\n",
              "      <td>...</td>\n",
              "    </tr>\n",
              "    <tr>\n",
              "      <th>5034</th>\n",
              "      <td>Neill Dela Llana</td>\n",
              "      <td>35.0</td>\n",
              "      <td>80.0</td>\n",
              "      <td>0.0</td>\n",
              "      <td>0.0</td>\n",
              "      <td>Edgar Tancangco</td>\n",
              "      <td>0.0</td>\n",
              "      <td>70071.0</td>\n",
              "      <td>Thriller</td>\n",
              "      <td>Ian Gamazon</td>\n",
              "      <td>Cavite</td>\n",
              "      <td>589</td>\n",
              "      <td>0</td>\n",
              "      <td>Quynn Ton</td>\n",
              "      <td>0.0</td>\n",
              "      <td>jihad|mindanao|philippines|security guard|squa...</td>\n",
              "      <td>35.0</td>\n",
              "      <td>Philippines</td>\n",
              "      <td>Not Rated</td>\n",
              "      <td>7000.0</td>\n",
              "      <td>2005.0</td>\n",
              "      <td>0.0</td>\n",
              "      <td>6.3</td>\n",
              "      <td>2.35</td>\n",
              "      <td>74</td>\n",
              "      <td>63071.0</td>\n",
              "      <td>90.010133</td>\n",
              "    </tr>\n",
              "    <tr>\n",
              "      <th>5035</th>\n",
              "      <td>Robert Rodriguez</td>\n",
              "      <td>56.0</td>\n",
              "      <td>81.0</td>\n",
              "      <td>0.0</td>\n",
              "      <td>6.0</td>\n",
              "      <td>Peter Marquardt</td>\n",
              "      <td>121.0</td>\n",
              "      <td>2040920.0</td>\n",
              "      <td>Action|Crime|Drama|Romance|Thriller</td>\n",
              "      <td>Carlos Gallardo</td>\n",
              "      <td>El Mariachi</td>\n",
              "      <td>52055</td>\n",
              "      <td>147</td>\n",
              "      <td>Consuelo Gómez</td>\n",
              "      <td>0.0</td>\n",
              "      <td>assassin|death|guitar|gun|mariachi</td>\n",
              "      <td>130.0</td>\n",
              "      <td>USA</td>\n",
              "      <td>R</td>\n",
              "      <td>7000.0</td>\n",
              "      <td>1992.0</td>\n",
              "      <td>20.0</td>\n",
              "      <td>6.9</td>\n",
              "      <td>1.37</td>\n",
              "      <td>0</td>\n",
              "      <td>2033920.0</td>\n",
              "      <td>99.657017</td>\n",
              "    </tr>\n",
              "    <tr>\n",
              "      <th>5037</th>\n",
              "      <td>Edward Burns</td>\n",
              "      <td>14.0</td>\n",
              "      <td>95.0</td>\n",
              "      <td>0.0</td>\n",
              "      <td>133.0</td>\n",
              "      <td>Caitlin FitzGerald</td>\n",
              "      <td>296.0</td>\n",
              "      <td>4584.0</td>\n",
              "      <td>Comedy|Drama</td>\n",
              "      <td>Kerry Bishé</td>\n",
              "      <td>Newlyweds</td>\n",
              "      <td>1338</td>\n",
              "      <td>690</td>\n",
              "      <td>Daniella Pineda</td>\n",
              "      <td>1.0</td>\n",
              "      <td>written and directed by cast member</td>\n",
              "      <td>14.0</td>\n",
              "      <td>USA</td>\n",
              "      <td>Not Rated</td>\n",
              "      <td>9000.0</td>\n",
              "      <td>2011.0</td>\n",
              "      <td>205.0</td>\n",
              "      <td>6.4</td>\n",
              "      <td>2.35</td>\n",
              "      <td>413</td>\n",
              "      <td>-4416.0</td>\n",
              "      <td>-96.335079</td>\n",
              "    </tr>\n",
              "    <tr>\n",
              "      <th>5038</th>\n",
              "      <td>Scott Smith</td>\n",
              "      <td>1.0</td>\n",
              "      <td>87.0</td>\n",
              "      <td>2.0</td>\n",
              "      <td>318.0</td>\n",
              "      <td>Daphne Zuniga</td>\n",
              "      <td>637.0</td>\n",
              "      <td>26005908.0</td>\n",
              "      <td>Comedy|Drama</td>\n",
              "      <td>Eric Mabius</td>\n",
              "      <td>Signed Sealed Delivered</td>\n",
              "      <td>629</td>\n",
              "      <td>2283</td>\n",
              "      <td>Crystal Lowe</td>\n",
              "      <td>2.0</td>\n",
              "      <td>fraud|postal worker|prison|theft|trial</td>\n",
              "      <td>6.0</td>\n",
              "      <td>Canada</td>\n",
              "      <td>R</td>\n",
              "      <td>20000000.0</td>\n",
              "      <td>2013.0</td>\n",
              "      <td>470.0</td>\n",
              "      <td>7.7</td>\n",
              "      <td>2.35</td>\n",
              "      <td>84</td>\n",
              "      <td>6005908.0</td>\n",
              "      <td>23.094398</td>\n",
              "    </tr>\n",
              "    <tr>\n",
              "      <th>5042</th>\n",
              "      <td>Jon Gunn</td>\n",
              "      <td>43.0</td>\n",
              "      <td>90.0</td>\n",
              "      <td>16.0</td>\n",
              "      <td>16.0</td>\n",
              "      <td>Brian Herzlinger</td>\n",
              "      <td>86.0</td>\n",
              "      <td>85222.0</td>\n",
              "      <td>Documentary</td>\n",
              "      <td>John August</td>\n",
              "      <td>My Date with Drew</td>\n",
              "      <td>4285</td>\n",
              "      <td>163</td>\n",
              "      <td>Jon Gunn</td>\n",
              "      <td>0.0</td>\n",
              "      <td>actress name in title|crush|date|four word tit...</td>\n",
              "      <td>84.0</td>\n",
              "      <td>USA</td>\n",
              "      <td>PG</td>\n",
              "      <td>1100.0</td>\n",
              "      <td>2004.0</td>\n",
              "      <td>23.0</td>\n",
              "      <td>6.6</td>\n",
              "      <td>1.85</td>\n",
              "      <td>456</td>\n",
              "      <td>84122.0</td>\n",
              "      <td>98.709253</td>\n",
              "    </tr>\n",
              "  </tbody>\n",
              "</table>\n",
              "<p>4695 rows × 27 columns</p>\n",
              "</div>"
            ],
            "text/plain": [
              "          director_name  num_critic_for_reviews  ...       Profit  Profit_Percentage\n",
              "0         James Cameron                   723.0  ...  523505847.0          68.836532\n",
              "1        Gore Verbinski                   302.0  ...    9404152.0           3.039439\n",
              "2            Sam Mendes                   602.0  ...  -44925825.0         -22.454585\n",
              "3     Christopher Nolan                   813.0  ...  198130642.0          44.212697\n",
              "5        Andrew Stanton                   462.0  ... -190641321.0        -260.942743\n",
              "...                 ...                     ...  ...          ...                ...\n",
              "5034   Neill Dela Llana                    35.0  ...      63071.0          90.010133\n",
              "5035   Robert Rodriguez                    56.0  ...    2033920.0          99.657017\n",
              "5037       Edward Burns                    14.0  ...      -4416.0         -96.335079\n",
              "5038        Scott Smith                     1.0  ...    6005908.0          23.094398\n",
              "5042           Jon Gunn                    43.0  ...      84122.0          98.709253\n",
              "\n",
              "[4695 rows x 27 columns]"
            ]
          },
          "metadata": {
            "tags": []
          },
          "execution_count": 25
        }
      ]
    },
    {
      "cell_type": "code",
      "metadata": {
        "id": "77iwyAwGXfBH",
        "outputId": "668b284e-db29-4b66-944b-20f23dc9dcc5",
        "colab": {
          "base_uri": "https://localhost:8080/"
        }
      },
      "source": [
        "#Value counts for the countries \n",
        "value_counts=m_df[\"country\"].value_counts()\n",
        "value_counts"
      ],
      "execution_count": 26,
      "outputs": [
        {
          "output_type": "execute_result",
          "data": {
            "text/plain": [
              "USA               3568\n",
              "UK                 420\n",
              "France             149\n",
              "Canada             107\n",
              "Germany             96\n",
              "Australia           53\n",
              "Spain               32\n",
              "India               27\n",
              "China               24\n",
              "Japan               21\n",
              "Italy               20\n",
              "Hong Kong           16\n",
              "New Zealand         14\n",
              "South Korea         12\n",
              "Ireland             11\n",
              "Mexico              11\n",
              "Russia              11\n",
              "Denmark             11\n",
              "Brazil               8\n",
              "South Africa         8\n",
              "Norway               7\n",
              "Sweden               5\n",
              "Netherlands          5\n",
              "Argentina            4\n",
              "Iran                 4\n",
              "Thailand             4\n",
              "Israel               3\n",
              "Switzerland          3\n",
              "Belgium              3\n",
              "Czech Republic       3\n",
              "West Germany         3\n",
              "Romania              2\n",
              "Iceland              2\n",
              "Hungary              2\n",
              "Taiwan               2\n",
              "Greece               2\n",
              "Poland               2\n",
              "Bahamas              1\n",
              "Kyrgyzstan           1\n",
              "Chile                1\n",
              "Libya                1\n",
              "Colombia             1\n",
              "Cambodia             1\n",
              "Slovakia             1\n",
              "Afghanistan          1\n",
              "Georgia              1\n",
              "Official site        1\n",
              "New Line             1\n",
              "Nigeria              1\n",
              "Soviet Union         1\n",
              "Peru                 1\n",
              "Turkey               1\n",
              "Aruba                1\n",
              "Indonesia            1\n",
              "Bulgaria             1\n",
              "Philippines          1\n",
              "Finland              1\n",
              "Name: country, dtype: int64"
            ]
          },
          "metadata": {
            "tags": []
          },
          "execution_count": 26
        }
      ]
    },
    {
      "cell_type": "code",
      "metadata": {
        "id": "4dXrE911XfBL",
        "outputId": "2f115b0a-e8b5-4490-eef3-408f1575868e",
        "colab": {
          "base_uri": "https://localhost:8080/"
        }
      },
      "source": [
        "##get top 2 values of index\n",
        "vals = value_counts[:2].index\n",
        "vals"
      ],
      "execution_count": 27,
      "outputs": [
        {
          "output_type": "execute_result",
          "data": {
            "text/plain": [
              "Index(['USA', 'UK'], dtype='object')"
            ]
          },
          "metadata": {
            "tags": []
          },
          "execution_count": 27
        }
      ]
    },
    {
      "cell_type": "code",
      "metadata": {
        "id": "dqyN0Ls-XfBP"
      },
      "source": [
        "#dividing the country into three catogories \n",
        "m_df['country'] = m_df.country.where(m_df.country.isin(vals), 'other')"
      ],
      "execution_count": 28,
      "outputs": []
    },
    {
      "cell_type": "code",
      "metadata": {
        "id": "9giMrtMjXfBT",
        "outputId": "3cbce9de-6741-4f91-c819-01b2caf7bd17",
        "colab": {
          "base_uri": "https://localhost:8080/",
          "height": 623
        }
      },
      "source": [
        "m_df"
      ],
      "execution_count": 29,
      "outputs": [
        {
          "output_type": "execute_result",
          "data": {
            "text/html": [
              "<div>\n",
              "<style scoped>\n",
              "    .dataframe tbody tr th:only-of-type {\n",
              "        vertical-align: middle;\n",
              "    }\n",
              "\n",
              "    .dataframe tbody tr th {\n",
              "        vertical-align: top;\n",
              "    }\n",
              "\n",
              "    .dataframe thead th {\n",
              "        text-align: right;\n",
              "    }\n",
              "</style>\n",
              "<table border=\"1\" class=\"dataframe\">\n",
              "  <thead>\n",
              "    <tr style=\"text-align: right;\">\n",
              "      <th></th>\n",
              "      <th>director_name</th>\n",
              "      <th>num_critic_for_reviews</th>\n",
              "      <th>duration</th>\n",
              "      <th>director_facebook_likes</th>\n",
              "      <th>actor_3_facebook_likes</th>\n",
              "      <th>actor_2_name</th>\n",
              "      <th>actor_1_facebook_likes</th>\n",
              "      <th>gross</th>\n",
              "      <th>genres</th>\n",
              "      <th>actor_1_name</th>\n",
              "      <th>movie_title</th>\n",
              "      <th>num_voted_users</th>\n",
              "      <th>cast_total_facebook_likes</th>\n",
              "      <th>actor_3_name</th>\n",
              "      <th>facenumber_in_poster</th>\n",
              "      <th>plot_keywords</th>\n",
              "      <th>num_user_for_reviews</th>\n",
              "      <th>country</th>\n",
              "      <th>content_rating</th>\n",
              "      <th>budget</th>\n",
              "      <th>title_year</th>\n",
              "      <th>actor_2_facebook_likes</th>\n",
              "      <th>imdb_score</th>\n",
              "      <th>aspect_ratio</th>\n",
              "      <th>movie_facebook_likes</th>\n",
              "      <th>Profit</th>\n",
              "      <th>Profit_Percentage</th>\n",
              "    </tr>\n",
              "  </thead>\n",
              "  <tbody>\n",
              "    <tr>\n",
              "      <th>0</th>\n",
              "      <td>James Cameron</td>\n",
              "      <td>723.0</td>\n",
              "      <td>178.0</td>\n",
              "      <td>0.0</td>\n",
              "      <td>855.0</td>\n",
              "      <td>Joel David Moore</td>\n",
              "      <td>1000.0</td>\n",
              "      <td>760505847.0</td>\n",
              "      <td>Action|Adventure|Fantasy|Sci-Fi</td>\n",
              "      <td>CCH Pounder</td>\n",
              "      <td>Avatar</td>\n",
              "      <td>886204</td>\n",
              "      <td>4834</td>\n",
              "      <td>Wes Studi</td>\n",
              "      <td>0.0</td>\n",
              "      <td>avatar|future|marine|native|paraplegic</td>\n",
              "      <td>3054.0</td>\n",
              "      <td>USA</td>\n",
              "      <td>PG-13</td>\n",
              "      <td>237000000.0</td>\n",
              "      <td>2009.0</td>\n",
              "      <td>936.0</td>\n",
              "      <td>7.9</td>\n",
              "      <td>1.78</td>\n",
              "      <td>33000</td>\n",
              "      <td>523505847.0</td>\n",
              "      <td>68.836532</td>\n",
              "    </tr>\n",
              "    <tr>\n",
              "      <th>1</th>\n",
              "      <td>Gore Verbinski</td>\n",
              "      <td>302.0</td>\n",
              "      <td>169.0</td>\n",
              "      <td>563.0</td>\n",
              "      <td>1000.0</td>\n",
              "      <td>Orlando Bloom</td>\n",
              "      <td>40000.0</td>\n",
              "      <td>309404152.0</td>\n",
              "      <td>Action|Adventure|Fantasy</td>\n",
              "      <td>Johnny Depp</td>\n",
              "      <td>Pirates of the Caribbean: At World's End</td>\n",
              "      <td>471220</td>\n",
              "      <td>48350</td>\n",
              "      <td>Jack Davenport</td>\n",
              "      <td>0.0</td>\n",
              "      <td>goddess|marriage ceremony|marriage proposal|pi...</td>\n",
              "      <td>1238.0</td>\n",
              "      <td>USA</td>\n",
              "      <td>PG-13</td>\n",
              "      <td>300000000.0</td>\n",
              "      <td>2007.0</td>\n",
              "      <td>5000.0</td>\n",
              "      <td>7.1</td>\n",
              "      <td>2.35</td>\n",
              "      <td>0</td>\n",
              "      <td>9404152.0</td>\n",
              "      <td>3.039439</td>\n",
              "    </tr>\n",
              "    <tr>\n",
              "      <th>2</th>\n",
              "      <td>Sam Mendes</td>\n",
              "      <td>602.0</td>\n",
              "      <td>148.0</td>\n",
              "      <td>0.0</td>\n",
              "      <td>161.0</td>\n",
              "      <td>Rory Kinnear</td>\n",
              "      <td>11000.0</td>\n",
              "      <td>200074175.0</td>\n",
              "      <td>Action|Adventure|Thriller</td>\n",
              "      <td>Christoph Waltz</td>\n",
              "      <td>Spectre</td>\n",
              "      <td>275868</td>\n",
              "      <td>11700</td>\n",
              "      <td>Stephanie Sigman</td>\n",
              "      <td>1.0</td>\n",
              "      <td>bomb|espionage|sequel|spy|terrorist</td>\n",
              "      <td>994.0</td>\n",
              "      <td>UK</td>\n",
              "      <td>PG-13</td>\n",
              "      <td>245000000.0</td>\n",
              "      <td>2015.0</td>\n",
              "      <td>393.0</td>\n",
              "      <td>6.8</td>\n",
              "      <td>2.35</td>\n",
              "      <td>85000</td>\n",
              "      <td>-44925825.0</td>\n",
              "      <td>-22.454585</td>\n",
              "    </tr>\n",
              "    <tr>\n",
              "      <th>3</th>\n",
              "      <td>Christopher Nolan</td>\n",
              "      <td>813.0</td>\n",
              "      <td>164.0</td>\n",
              "      <td>22000.0</td>\n",
              "      <td>23000.0</td>\n",
              "      <td>Christian Bale</td>\n",
              "      <td>27000.0</td>\n",
              "      <td>448130642.0</td>\n",
              "      <td>Action|Thriller</td>\n",
              "      <td>Tom Hardy</td>\n",
              "      <td>The Dark Knight Rises</td>\n",
              "      <td>1144337</td>\n",
              "      <td>106759</td>\n",
              "      <td>Joseph Gordon-Levitt</td>\n",
              "      <td>0.0</td>\n",
              "      <td>deception|imprisonment|lawlessness|police offi...</td>\n",
              "      <td>2701.0</td>\n",
              "      <td>USA</td>\n",
              "      <td>PG-13</td>\n",
              "      <td>250000000.0</td>\n",
              "      <td>2012.0</td>\n",
              "      <td>23000.0</td>\n",
              "      <td>8.5</td>\n",
              "      <td>2.35</td>\n",
              "      <td>164000</td>\n",
              "      <td>198130642.0</td>\n",
              "      <td>44.212697</td>\n",
              "    </tr>\n",
              "    <tr>\n",
              "      <th>5</th>\n",
              "      <td>Andrew Stanton</td>\n",
              "      <td>462.0</td>\n",
              "      <td>132.0</td>\n",
              "      <td>475.0</td>\n",
              "      <td>530.0</td>\n",
              "      <td>Samantha Morton</td>\n",
              "      <td>640.0</td>\n",
              "      <td>73058679.0</td>\n",
              "      <td>Action|Adventure|Sci-Fi</td>\n",
              "      <td>Daryl Sabara</td>\n",
              "      <td>John Carter</td>\n",
              "      <td>212204</td>\n",
              "      <td>1873</td>\n",
              "      <td>Polly Walker</td>\n",
              "      <td>1.0</td>\n",
              "      <td>alien|american civil war|male nipple|mars|prin...</td>\n",
              "      <td>738.0</td>\n",
              "      <td>USA</td>\n",
              "      <td>PG-13</td>\n",
              "      <td>263700000.0</td>\n",
              "      <td>2012.0</td>\n",
              "      <td>632.0</td>\n",
              "      <td>6.6</td>\n",
              "      <td>2.35</td>\n",
              "      <td>24000</td>\n",
              "      <td>-190641321.0</td>\n",
              "      <td>-260.942743</td>\n",
              "    </tr>\n",
              "    <tr>\n",
              "      <th>...</th>\n",
              "      <td>...</td>\n",
              "      <td>...</td>\n",
              "      <td>...</td>\n",
              "      <td>...</td>\n",
              "      <td>...</td>\n",
              "      <td>...</td>\n",
              "      <td>...</td>\n",
              "      <td>...</td>\n",
              "      <td>...</td>\n",
              "      <td>...</td>\n",
              "      <td>...</td>\n",
              "      <td>...</td>\n",
              "      <td>...</td>\n",
              "      <td>...</td>\n",
              "      <td>...</td>\n",
              "      <td>...</td>\n",
              "      <td>...</td>\n",
              "      <td>...</td>\n",
              "      <td>...</td>\n",
              "      <td>...</td>\n",
              "      <td>...</td>\n",
              "      <td>...</td>\n",
              "      <td>...</td>\n",
              "      <td>...</td>\n",
              "      <td>...</td>\n",
              "      <td>...</td>\n",
              "      <td>...</td>\n",
              "    </tr>\n",
              "    <tr>\n",
              "      <th>5034</th>\n",
              "      <td>Neill Dela Llana</td>\n",
              "      <td>35.0</td>\n",
              "      <td>80.0</td>\n",
              "      <td>0.0</td>\n",
              "      <td>0.0</td>\n",
              "      <td>Edgar Tancangco</td>\n",
              "      <td>0.0</td>\n",
              "      <td>70071.0</td>\n",
              "      <td>Thriller</td>\n",
              "      <td>Ian Gamazon</td>\n",
              "      <td>Cavite</td>\n",
              "      <td>589</td>\n",
              "      <td>0</td>\n",
              "      <td>Quynn Ton</td>\n",
              "      <td>0.0</td>\n",
              "      <td>jihad|mindanao|philippines|security guard|squa...</td>\n",
              "      <td>35.0</td>\n",
              "      <td>other</td>\n",
              "      <td>Not Rated</td>\n",
              "      <td>7000.0</td>\n",
              "      <td>2005.0</td>\n",
              "      <td>0.0</td>\n",
              "      <td>6.3</td>\n",
              "      <td>2.35</td>\n",
              "      <td>74</td>\n",
              "      <td>63071.0</td>\n",
              "      <td>90.010133</td>\n",
              "    </tr>\n",
              "    <tr>\n",
              "      <th>5035</th>\n",
              "      <td>Robert Rodriguez</td>\n",
              "      <td>56.0</td>\n",
              "      <td>81.0</td>\n",
              "      <td>0.0</td>\n",
              "      <td>6.0</td>\n",
              "      <td>Peter Marquardt</td>\n",
              "      <td>121.0</td>\n",
              "      <td>2040920.0</td>\n",
              "      <td>Action|Crime|Drama|Romance|Thriller</td>\n",
              "      <td>Carlos Gallardo</td>\n",
              "      <td>El Mariachi</td>\n",
              "      <td>52055</td>\n",
              "      <td>147</td>\n",
              "      <td>Consuelo Gómez</td>\n",
              "      <td>0.0</td>\n",
              "      <td>assassin|death|guitar|gun|mariachi</td>\n",
              "      <td>130.0</td>\n",
              "      <td>USA</td>\n",
              "      <td>R</td>\n",
              "      <td>7000.0</td>\n",
              "      <td>1992.0</td>\n",
              "      <td>20.0</td>\n",
              "      <td>6.9</td>\n",
              "      <td>1.37</td>\n",
              "      <td>0</td>\n",
              "      <td>2033920.0</td>\n",
              "      <td>99.657017</td>\n",
              "    </tr>\n",
              "    <tr>\n",
              "      <th>5037</th>\n",
              "      <td>Edward Burns</td>\n",
              "      <td>14.0</td>\n",
              "      <td>95.0</td>\n",
              "      <td>0.0</td>\n",
              "      <td>133.0</td>\n",
              "      <td>Caitlin FitzGerald</td>\n",
              "      <td>296.0</td>\n",
              "      <td>4584.0</td>\n",
              "      <td>Comedy|Drama</td>\n",
              "      <td>Kerry Bishé</td>\n",
              "      <td>Newlyweds</td>\n",
              "      <td>1338</td>\n",
              "      <td>690</td>\n",
              "      <td>Daniella Pineda</td>\n",
              "      <td>1.0</td>\n",
              "      <td>written and directed by cast member</td>\n",
              "      <td>14.0</td>\n",
              "      <td>USA</td>\n",
              "      <td>Not Rated</td>\n",
              "      <td>9000.0</td>\n",
              "      <td>2011.0</td>\n",
              "      <td>205.0</td>\n",
              "      <td>6.4</td>\n",
              "      <td>2.35</td>\n",
              "      <td>413</td>\n",
              "      <td>-4416.0</td>\n",
              "      <td>-96.335079</td>\n",
              "    </tr>\n",
              "    <tr>\n",
              "      <th>5038</th>\n",
              "      <td>Scott Smith</td>\n",
              "      <td>1.0</td>\n",
              "      <td>87.0</td>\n",
              "      <td>2.0</td>\n",
              "      <td>318.0</td>\n",
              "      <td>Daphne Zuniga</td>\n",
              "      <td>637.0</td>\n",
              "      <td>26005908.0</td>\n",
              "      <td>Comedy|Drama</td>\n",
              "      <td>Eric Mabius</td>\n",
              "      <td>Signed Sealed Delivered</td>\n",
              "      <td>629</td>\n",
              "      <td>2283</td>\n",
              "      <td>Crystal Lowe</td>\n",
              "      <td>2.0</td>\n",
              "      <td>fraud|postal worker|prison|theft|trial</td>\n",
              "      <td>6.0</td>\n",
              "      <td>other</td>\n",
              "      <td>R</td>\n",
              "      <td>20000000.0</td>\n",
              "      <td>2013.0</td>\n",
              "      <td>470.0</td>\n",
              "      <td>7.7</td>\n",
              "      <td>2.35</td>\n",
              "      <td>84</td>\n",
              "      <td>6005908.0</td>\n",
              "      <td>23.094398</td>\n",
              "    </tr>\n",
              "    <tr>\n",
              "      <th>5042</th>\n",
              "      <td>Jon Gunn</td>\n",
              "      <td>43.0</td>\n",
              "      <td>90.0</td>\n",
              "      <td>16.0</td>\n",
              "      <td>16.0</td>\n",
              "      <td>Brian Herzlinger</td>\n",
              "      <td>86.0</td>\n",
              "      <td>85222.0</td>\n",
              "      <td>Documentary</td>\n",
              "      <td>John August</td>\n",
              "      <td>My Date with Drew</td>\n",
              "      <td>4285</td>\n",
              "      <td>163</td>\n",
              "      <td>Jon Gunn</td>\n",
              "      <td>0.0</td>\n",
              "      <td>actress name in title|crush|date|four word tit...</td>\n",
              "      <td>84.0</td>\n",
              "      <td>USA</td>\n",
              "      <td>PG</td>\n",
              "      <td>1100.0</td>\n",
              "      <td>2004.0</td>\n",
              "      <td>23.0</td>\n",
              "      <td>6.6</td>\n",
              "      <td>1.85</td>\n",
              "      <td>456</td>\n",
              "      <td>84122.0</td>\n",
              "      <td>98.709253</td>\n",
              "    </tr>\n",
              "  </tbody>\n",
              "</table>\n",
              "<p>4695 rows × 27 columns</p>\n",
              "</div>"
            ],
            "text/plain": [
              "          director_name  num_critic_for_reviews  ...       Profit  Profit_Percentage\n",
              "0         James Cameron                   723.0  ...  523505847.0          68.836532\n",
              "1        Gore Verbinski                   302.0  ...    9404152.0           3.039439\n",
              "2            Sam Mendes                   602.0  ...  -44925825.0         -22.454585\n",
              "3     Christopher Nolan                   813.0  ...  198130642.0          44.212697\n",
              "5        Andrew Stanton                   462.0  ... -190641321.0        -260.942743\n",
              "...                 ...                     ...  ...          ...                ...\n",
              "5034   Neill Dela Llana                    35.0  ...      63071.0          90.010133\n",
              "5035   Robert Rodriguez                    56.0  ...    2033920.0          99.657017\n",
              "5037       Edward Burns                    14.0  ...      -4416.0         -96.335079\n",
              "5038        Scott Smith                     1.0  ...    6005908.0          23.094398\n",
              "5042           Jon Gunn                    43.0  ...      84122.0          98.709253\n",
              "\n",
              "[4695 rows x 27 columns]"
            ]
          },
          "metadata": {
            "tags": []
          },
          "execution_count": 29
        }
      ]
    },
    {
      "cell_type": "code",
      "metadata": {
        "id": "7nDqvhiFXfBX",
        "outputId": "1fd927a1-5b1c-42d8-dfd8-6ac805136e63",
        "colab": {
          "base_uri": "https://localhost:8080/"
        }
      },
      "source": [
        "#Successfully divided the country into three catogories\n",
        "m_df[\"country\"].value_counts()"
      ],
      "execution_count": 30,
      "outputs": [
        {
          "output_type": "execute_result",
          "data": {
            "text/plain": [
              "USA      3568\n",
              "other     707\n",
              "UK        420\n",
              "Name: country, dtype: int64"
            ]
          },
          "metadata": {
            "tags": []
          },
          "execution_count": 30
        }
      ]
    },
    {
      "cell_type": "code",
      "metadata": {
        "id": "Y4zfGI2JXfBb"
      },
      "source": [
        "#Removing the director name column\n",
        "m_df.drop('director_name', axis=1, inplace=True)"
      ],
      "execution_count": 31,
      "outputs": []
    },
    {
      "cell_type": "code",
      "metadata": {
        "id": "aA5-wN9jXfBe"
      },
      "source": [
        "#Removing the actor1 ,actor 2 and actor 3 names\n",
        "m_df.drop('actor_1_name',axis=1,inplace=True)"
      ],
      "execution_count": 32,
      "outputs": []
    },
    {
      "cell_type": "code",
      "metadata": {
        "id": "3H8q5BbRXfBg"
      },
      "source": [
        "m_df.drop('actor_2_name',axis=1,inplace=True)\n",
        "m_df.drop('actor_3_name',axis=1,inplace=True)\n",
        "m_df.drop('movie_title',axis=1,inplace=True)\n",
        "m_df.drop('plot_keywords',axis=1,inplace=True)"
      ],
      "execution_count": 33,
      "outputs": []
    },
    {
      "cell_type": "code",
      "metadata": {
        "id": "YWQ1g5hUXfBj",
        "outputId": "8b1bbbd2-38b7-4a00-f620-35762957963b",
        "colab": {
          "base_uri": "https://localhost:8080/"
        }
      },
      "source": [
        "#Value count of genres\n",
        "m_df['genres'].value_counts()"
      ],
      "execution_count": 34,
      "outputs": [
        {
          "output_type": "execute_result",
          "data": {
            "text/plain": [
              "Drama                                    209\n",
              "Comedy                                   186\n",
              "Comedy|Drama|Romance                     182\n",
              "Comedy|Drama                             180\n",
              "Comedy|Romance                           149\n",
              "                                        ... \n",
              "Animation|Family                           1\n",
              "Action|Comedy|Fantasy|Horror               1\n",
              "Action|Adventure|Drama|Western             1\n",
              "Adventure|Animation|Comedy|Family|War      1\n",
              "Action|Animation|Comedy|Crime|Family       1\n",
              "Name: genres, Length: 875, dtype: int64"
            ]
          },
          "metadata": {
            "tags": []
          },
          "execution_count": 34
        }
      ]
    },
    {
      "cell_type": "code",
      "metadata": {
        "id": "XsM8xTt9XfBm"
      },
      "source": [
        "#Most of the values are equally distributed in genres column ,so we can remove the genres column\n",
        "m_df.drop('genres',axis=1,inplace =True)"
      ],
      "execution_count": 35,
      "outputs": []
    },
    {
      "cell_type": "code",
      "metadata": {
        "id": "MWH3uSGuXfBp"
      },
      "source": [
        "# Dropiing the profit column from the dataset\n",
        "m_df.drop('Profit',axis=1,inplace=True)"
      ],
      "execution_count": 36,
      "outputs": []
    },
    {
      "cell_type": "code",
      "metadata": {
        "id": "IAJiC5a2XfBr"
      },
      "source": [
        "#Dropping the profit percentage column from the dataset\n",
        "m_df.drop('Profit_Percentage',axis=1,inplace=True)"
      ],
      "execution_count": 37,
      "outputs": []
    },
    {
      "cell_type": "code",
      "metadata": {
        "id": "72JyPI7YXfBv"
      },
      "source": [
        "#Adding the facebook likes of actor 2 and actor 3 together \n",
        "m_df['Other_actor_facebbok_likes']=m_df[\"actor_2_facebook_likes\"] + m_df['actor_3_facebook_likes']"
      ],
      "execution_count": 38,
      "outputs": []
    },
    {
      "cell_type": "code",
      "metadata": {
        "id": "R2TXZmBNXfB0"
      },
      "source": [
        "m_df.drop('actor_2_facebook_likes',axis=1,inplace=True)\n",
        "m_df.drop('actor_3_facebook_likes',axis=1,inplace=True)\n",
        "m_df.drop('cast_total_facebook_likes',axis=1,inplace=True)"
      ],
      "execution_count": 39,
      "outputs": []
    },
    {
      "cell_type": "code",
      "metadata": {
        "id": "A6duLfr-XfB5"
      },
      "source": [
        "#Ratio of the ratio of num_user_for_reviews and num_critic_for_reviews.\n",
        "\n",
        "m_df['critic_review_ratio']=m_df['num_critic_for_reviews']/m_df['num_user_for_reviews']"
      ],
      "execution_count": 40,
      "outputs": []
    },
    {
      "cell_type": "code",
      "metadata": {
        "id": "mFCeLy3TXfB8"
      },
      "source": [
        "#Dropping the num_critic_for_review\n",
        "\n",
        "m_df.drop('num_critic_for_reviews',axis=1,inplace=True)\n",
        "m_df.drop('num_user_for_reviews',axis=1,inplace=True)"
      ],
      "execution_count": 41,
      "outputs": []
    },
    {
      "cell_type": "code",
      "metadata": {
        "id": "0q9-YBSzXfB-"
      },
      "source": [
        "m_df = pd.get_dummies(data = m_df, columns = ['country'] , prefix = ['country'] , drop_first = True)\n",
        "m_df = pd.get_dummies(data = m_df, columns = ['content_rating'] , prefix = ['content_rating'] , drop_first = True)"
      ],
      "execution_count": 42,
      "outputs": []
    },
    {
      "cell_type": "code",
      "metadata": {
        "id": "zV3khJ77XfCA",
        "outputId": "95aeea87-94a3-4e08-cfae-ebb7156186e7",
        "colab": {
          "base_uri": "https://localhost:8080/"
        }
      },
      "source": [
        "m_df.columns"
      ],
      "execution_count": 43,
      "outputs": [
        {
          "output_type": "execute_result",
          "data": {
            "text/plain": [
              "Index(['duration', 'director_facebook_likes', 'actor_1_facebook_likes',\n",
              "       'gross', 'num_voted_users', 'facenumber_in_poster', 'budget',\n",
              "       'title_year', 'imdb_score', 'aspect_ratio', 'movie_facebook_likes',\n",
              "       'Other_actor_facebbok_likes', 'critic_review_ratio', 'country_USA',\n",
              "       'country_other', 'content_rating_G', 'content_rating_GP',\n",
              "       'content_rating_M', 'content_rating_NC-17', 'content_rating_Not Rated',\n",
              "       'content_rating_PG', 'content_rating_PG-13', 'content_rating_Passed',\n",
              "       'content_rating_R', 'content_rating_TV-14', 'content_rating_TV-G',\n",
              "       'content_rating_TV-PG', 'content_rating_Unrated', 'content_rating_X'],\n",
              "      dtype='object')"
            ]
          },
          "metadata": {
            "tags": []
          },
          "execution_count": 43
        }
      ]
    },
    {
      "cell_type": "code",
      "metadata": {
        "id": "rzVyqRLbXfCD",
        "outputId": "b592dc78-e72d-4397-dfc6-e303d2c70ccb",
        "colab": {
          "base_uri": "https://localhost:8080/"
        }
      },
      "source": [
        "m_df.isna().sum()"
      ],
      "execution_count": 44,
      "outputs": [
        {
          "output_type": "execute_result",
          "data": {
            "text/plain": [
              "duration                      0\n",
              "director_facebook_likes       0\n",
              "actor_1_facebook_likes        0\n",
              "gross                         0\n",
              "num_voted_users               0\n",
              "facenumber_in_poster          0\n",
              "budget                        0\n",
              "title_year                    0\n",
              "imdb_score                    0\n",
              "aspect_ratio                  0\n",
              "movie_facebook_likes          0\n",
              "Other_actor_facebbok_likes    0\n",
              "critic_review_ratio           0\n",
              "country_USA                   0\n",
              "country_other                 0\n",
              "content_rating_G              0\n",
              "content_rating_GP             0\n",
              "content_rating_M              0\n",
              "content_rating_NC-17          0\n",
              "content_rating_Not Rated      0\n",
              "content_rating_PG             0\n",
              "content_rating_PG-13          0\n",
              "content_rating_Passed         0\n",
              "content_rating_R              0\n",
              "content_rating_TV-14          0\n",
              "content_rating_TV-G           0\n",
              "content_rating_TV-PG          0\n",
              "content_rating_Unrated        0\n",
              "content_rating_X              0\n",
              "dtype: int64"
            ]
          },
          "metadata": {
            "tags": []
          },
          "execution_count": 44
        }
      ]
    },
    {
      "cell_type": "code",
      "metadata": {
        "id": "eThzmDJIXfCH",
        "outputId": "dcb592b8-1289-42c6-adf5-bfaf6af6eb98",
        "colab": {
          "base_uri": "https://localhost:8080/"
        }
      },
      "source": [
        "m_df['imdb_score']"
      ],
      "execution_count": 45,
      "outputs": [
        {
          "output_type": "execute_result",
          "data": {
            "text/plain": [
              "0       7.9\n",
              "1       7.1\n",
              "2       6.8\n",
              "3       8.5\n",
              "5       6.6\n",
              "       ... \n",
              "5034    6.3\n",
              "5035    6.9\n",
              "5037    6.4\n",
              "5038    7.7\n",
              "5042    6.6\n",
              "Name: imdb_score, Length: 4695, dtype: float64"
            ]
          },
          "metadata": {
            "tags": []
          },
          "execution_count": 45
        }
      ]
    },
    {
      "cell_type": "code",
      "metadata": {
        "id": "-A7u9kDuXfCK"
      },
      "source": [
        "#X=pd.DataFrame(columns=['duration','director_facebook_likes','actor_1_facebook_likes','gross','num_voted_users','facenumber_in_poster','budget','title_year','aspect_ratio','movie_facebook_likes','Other_actor_facebbok_likes','critic_review_ratio','country_USA','country_other','content_rating_G','content_rating_GP','content_rating_M','content_rating_NC-17','content_rating_Not Rated','content_rating_PG','content_rating_PG-13','content_rating_Passed','content_rating_R','content_rating_TV-14','content_rating_TV-G','content_rating_TV-PG','content_rating_Unrated','content_rating_X'],data=m_df)\n",
        "#y=pd.DataFrame(columns=['imdb_score'],data=m_df)\n",
        "x=m_df.drop(['imdb_score'],axis=1)\n",
        "y=m_df['imdb_score']\n",
        "from sklearn.model_selection import train_test_split\n",
        "X_train, X_test, y_train, y_test=train_test_split(x,y,test_size=0.3,random_state=100)"
      ],
      "execution_count": 47,
      "outputs": []
    },
    {
      "cell_type": "code",
      "metadata": {
        "id": "A7r9vuydXfCO",
        "outputId": "0345edbf-e637-4664-c5f7-5ee7fdc4ed1d",
        "colab": {
          "base_uri": "https://localhost:8080/"
        }
      },
      "source": [
        "X_test,y_test"
      ],
      "execution_count": 48,
      "outputs": [
        {
          "output_type": "execute_result",
          "data": {
            "text/plain": [
              "(      duration  ...  content_rating_X\n",
              " 4480      92.0  ...                 0\n",
              " 2732     100.0  ...                 0\n",
              " 974      125.0  ...                 0\n",
              " 350      124.0  ...                 0\n",
              " 1267     136.0  ...                 0\n",
              " ...        ...  ...               ...\n",
              " 1012     100.0  ...                 0\n",
              " 1598     111.0  ...                 0\n",
              " 3890     152.0  ...                 0\n",
              " 2020     114.0  ...                 0\n",
              " 4816      88.0  ...                 0\n",
              " \n",
              " [1409 rows x 28 columns], 4480    7.1\n",
              " 2732    5.6\n",
              " 974     5.8\n",
              " 350     5.6\n",
              " 1267    6.1\n",
              "        ... \n",
              " 1012    5.4\n",
              " 1598    6.2\n",
              " 3890    6.7\n",
              " 2020    5.3\n",
              " 4816    7.8\n",
              " Name: imdb_score, Length: 1409, dtype: float64)"
            ]
          },
          "metadata": {
            "tags": []
          },
          "execution_count": 48
        }
      ]
    },
    {
      "cell_type": "code",
      "metadata": {
        "id": "UmAh5-z8XfCS",
        "outputId": "b3547cf9-8992-4c65-b8ff-1c32f0fa0b96",
        "colab": {
          "base_uri": "https://localhost:8080/",
          "height": 295
        }
      },
      "source": [
        "#feature importance\n",
        "from sklearn.datasets import make_regression\n",
        "from sklearn.ensemble import ExtraTreesRegressor\n",
        "forest = ExtraTreesRegressor(n_estimators=250,\n",
        "                              random_state=0)\n",
        "forest.fit(X, y)\n",
        "features=x.columns\n",
        "importance = forest.feature_importances_\n",
        "indices = np.argsort(importance)\n",
        "plt.barh(range(len(indices)),importance[indices],color='b',align ='center')\n",
        "plt.yticks(range(len(indices)),[features[i] for i in indices])\n",
        "plt.xlabel('Importance')\n",
        "plt.title('Feature Importance')\n",
        "plt.show()"
      ],
      "execution_count": 49,
      "outputs": [
        {
          "output_type": "display_data",
          "data": {
            "image/png": "[encoded data removed]",
            "text/plain": [
              "<Figure size 432x288 with 1 Axes>"
            ]
          },
          "metadata": {
            "tags": [],
            "needs_background": "light"
          }
        }
      ]
    },
    {
      "cell_type": "code",
      "metadata": {
        "id": "53B12g-MXfCX"
      },
      "source": [
        "#feature scaling\n",
        "from sklearn.preprocessing import MinMaxScaler\n",
        "sc_X = MinMaxScaler()\n",
        "x_train = sc_X.fit_transform(X_train)\n",
        "x_test = sc_X.transform(X_test)"
      ],
      "execution_count": 50,
      "outputs": []
    },
    {
      "cell_type": "code",
      "metadata": {
        "id": "1yKe2olCXfCZ",
        "outputId": "b4cd3a98-6b2a-43ef-cd09-8ce67b6c6603",
        "colab": {
          "base_uri": "https://localhost:8080/"
        }
      },
      "source": [
        "x_train"
      ],
      "execution_count": 51,
      "outputs": [
        {
          "output_type": "execute_result",
          "data": {
            "text/plain": [
              "array([[3.44936709e-01, 2.45909091e-02, 4.61538462e-02, ...,\n",
              "        0.00000000e+00, 0.00000000e+00, 0.00000000e+00],\n",
              "       [3.16455696e-01, 0.00000000e+00, 3.32692308e-03, ...,\n",
              "        0.00000000e+00, 0.00000000e+00, 0.00000000e+00],\n",
              "       [3.06962025e-01, 7.72727273e-04, 5.00000000e-02, ...,\n",
              "        0.00000000e+00, 0.00000000e+00, 0.00000000e+00],\n",
              "       ...,\n",
              "       [2.34177215e-01, 3.18181818e-04, 7.69230769e-03, ...,\n",
              "        0.00000000e+00, 0.00000000e+00, 0.00000000e+00],\n",
              "       [3.48101266e-01, 1.81818182e-01, 8.07692308e-02, ...,\n",
              "        0.00000000e+00, 0.00000000e+00, 0.00000000e+00],\n",
              "       [3.06962025e-01, 3.68181818e-03, 1.15384615e-02, ...,\n",
              "        0.00000000e+00, 0.00000000e+00, 0.00000000e+00]])"
            ]
          },
          "metadata": {
            "tags": []
          },
          "execution_count": 51
        }
      ]
    },
    {
      "cell_type": "code",
      "metadata": {
        "id": "m1XZ8WUNXfCb",
        "outputId": "d59bb7d7-18d5-4932-a503-4649430626d5",
        "colab": {
          "base_uri": "https://localhost:8080/"
        }
      },
      "source": [
        "def RF():\n",
        "    global x_train,x_test,y_train,y_test\n",
        "    \n",
        "    clf = RandomForestRegressor(n_estimators=50, max_features='sqrt')\n",
        "    clf = clf.fit(x_train, y_train)\n",
        "    \n",
        "    predictions = clf.predict(x_test)\n",
        "    df_output = pd.DataFrame()\n",
        "    df_output['imdb_score'] = m_df['imdb_score']\n",
        "    df_output['predicted_imdb_score'] = pd.DataFrame(predictions)\n",
        "    df_output[['imdb_score','predicted_imdb_score']].to_csv('imdb_score@RF.csv',index=False)\n",
        "    MAE= metrics.mean_absolute_error(y_test,predictions)\n",
        "    MSE=metrics.mean_squared_error(y_test,predictions)\n",
        "    RMS= np.sqrt(metrics.mean_squared_error(y_test,predictions))\n",
        "    r_square = metrics.r2_score(y_test,predictions)\n",
        "    print('MAE= ', metrics.mean_absolute_error(y_test,predictions))\n",
        "    print('MSE= ', metrics.mean_squared_error(y_test,predictions))\n",
        "    print('RMS= ', np.sqrt(metrics.mean_squared_error(y_test,predictions)))\n",
        "    print('\\nr_square:', r_square)\n",
        "    print(\"\\nPredicted values on the New Data:\\n\\n\",df_output)\n",
        "RF()"
      ],
      "execution_count": 52,
      "outputs": [
        {
          "output_type": "stream",
          "text": [
            "MAE=  0.559347054648687\n",
            "MSE=  0.570617635202271\n",
            "RMS=  0.7553923716865766\n",
            "\n",
            "r_square: 0.5090707069810229\n",
            "\n",
            "Predicted values on the New Data:\n",
            "\n",
            "       imdb_score  predicted_imdb_score\n",
            "0            7.9                 6.838\n",
            "1            7.1                 5.444\n",
            "2            6.8                 6.426\n",
            "3            8.5                 6.002\n",
            "5            6.6                 6.500\n",
            "...          ...                   ...\n",
            "5034         6.3                   NaN\n",
            "5035         6.9                   NaN\n",
            "5037         6.4                   NaN\n",
            "5038         7.7                   NaN\n",
            "5042         6.6                   NaN\n",
            "\n",
            "[4695 rows x 2 columns]\n"
          ],
          "name": "stdout"
        }
      ]
    },
    {
      "cell_type": "code",
      "metadata": {
        "id": "XWE1OGFwXfCg",
        "outputId": "bb876b87-0702-48bd-aa57-650a722db401",
        "colab": {
          "base_uri": "https://localhost:8080/"
        }
      },
      "source": [
        "def svr():\n",
        "    global x_train,x_test,y_train,y_test\n",
        "    svr = SVR(kernel='rbf')\n",
        "    svr = svr.fit(x_train, y_train)\n",
        "    \n",
        "    predictions = svr.predict(x_test)\n",
        "    \n",
        "    \n",
        "    df_output = pd.DataFrame()\n",
        "    df_output['imdb_score'] = m_df['imdb_score']\n",
        "    df_output['predicted_imdb_score'] = pd.DataFrame(predictions)\n",
        "    df_output[['imdb_score','predicted_imdb_score']].to_csv('imdb_score@svr.csv',index=False)\n",
        "    MAE= metrics.mean_absolute_error(y_test,predictions)\n",
        "    MSE=metrics.mean_squared_error(y_test,predictions)\n",
        "    RMS= np.sqrt(metrics.mean_squared_error(y_test,predictions))\n",
        "    r_square = metrics.r2_score(y_test,predictions)\n",
        "    print('MAE= ', metrics.mean_absolute_error(y_test,predictions))\n",
        "    print('MSE= ', metrics.mean_squared_error(y_test,predictions))\n",
        "    print('RMS= ', np.sqrt(metrics.mean_squared_error(y_test,predictions)))\n",
        "    print('\\nr_square:', r_square)\n",
        "    print(\"\\nPredicted values on the New Data:\\n\\n\",df_output)\n",
        "svr()"
      ],
      "execution_count": 59,
      "outputs": [
        {
          "output_type": "stream",
          "text": [
            "MAE=  0.6388867797127653\n",
            "MSE=  0.7470065141117602\n",
            "RMS=  0.8642953859137281\n",
            "\n",
            "r_square: 0.35731502633377177\n",
            "\n",
            "Predicted values on the New Data:\n",
            "\n",
            "       imdb_score  predicted_imdb_score\n",
            "0            7.9              7.255143\n",
            "1            7.1              6.223694\n",
            "2            6.8              6.672364\n",
            "3            8.5              6.309287\n",
            "5            6.6              6.984011\n",
            "...          ...                   ...\n",
            "5034         6.3                   NaN\n",
            "5035         6.9                   NaN\n",
            "5037         6.4                   NaN\n",
            "5038         7.7                   NaN\n",
            "5042         6.6                   NaN\n",
            "\n",
            "[4695 rows x 2 columns]\n"
          ],
          "name": "stdout"
        }
      ]
    },
    {
      "cell_type": "code",
      "metadata": {
        "id": "g8Hbn4evXfCk",
        "outputId": "a6f7b885-ea24-4ce3-bfb2-a44f4f1a184c",
        "colab": {
          "base_uri": "https://localhost:8080/"
        }
      },
      "source": [
        "def KNN():\n",
        "    knn = KNeighborsRegressor()\n",
        "    knn = knn.fit(x_train, y_train)\n",
        "    \n",
        "    predictions = knn.predict(x_test)\n",
        "    df_output = pd.DataFrame()\n",
        "    df_output['imdb_score'] = m_df['imdb_score']\n",
        "    \n",
        "    df_output['predicted_imdb_score'] = pd.DataFrame(predictions)\n",
        "    df_output[['imdb_score','predicted_imdb_score']].to_csv('imdb_score@knn.csv',index=False)\n",
        "    MAE= metrics.mean_absolute_error(y_test,predictions)\n",
        "    MSE=metrics.mean_squared_error(y_test,predictions)\n",
        "    RMS= np.sqrt(metrics.mean_squared_error(y_test,predictions))\n",
        "    r_square = metrics.r2_score(y_test,predictions)\n",
        "    print('MAE= ', metrics.mean_absolute_error(y_test,predictions))\n",
        "    print('MSE= ', metrics.mean_squared_error(y_test,predictions))\n",
        "    print('RMS= ', np.sqrt(metrics.mean_squared_error(y_test,predictions)))\n",
        "    print('\\nr_square:', r_square)\n",
        "    print(\"\\nPredicted values on the New Data:\\n\\n\",df_output)\n",
        "    \n",
        "KNN()"
      ],
      "execution_count": 54,
      "outputs": [
        {
          "output_type": "stream",
          "text": [
            "MAE=  0.698736692689851\n",
            "MSE=  0.8415806955287438\n",
            "RMS=  0.9173770737972166\n",
            "\n",
            "r_square: 0.2759483927833907\n",
            "\n",
            "Predicted values on the New Data:\n",
            "\n",
            "       imdb_score  predicted_imdb_score\n",
            "0            7.9                  7.48\n",
            "1            7.1                  5.54\n",
            "2            6.8                  6.64\n",
            "3            8.5                  6.54\n",
            "5            6.6                  6.74\n",
            "...          ...                   ...\n",
            "5034         6.3                   NaN\n",
            "5035         6.9                   NaN\n",
            "5037         6.4                   NaN\n",
            "5038         7.7                   NaN\n",
            "5042         6.6                   NaN\n",
            "\n",
            "[4695 rows x 2 columns]\n"
          ],
          "name": "stdout"
        }
      ]
    },
    {
      "cell_type": "code",
      "metadata": {
        "id": "k4DdIAC1XfCq",
        "outputId": "6766cd7f-59a9-4127-80b4-02b90260802d",
        "colab": {
          "base_uri": "https://localhost:8080/"
        }
      },
      "source": [
        "def LR():\n",
        "    lr = LinearRegression()\n",
        "    lr = lr.fit(x_train, y_train)\n",
        "    \n",
        "    predictions = lr.predict(x_test)\n",
        "    df_output = pd.DataFrame()\n",
        "    df_output = pd.DataFrame()\n",
        "    df_output['imdb_score'] = m_df['imdb_score']\n",
        "    df_output['predicted_imdb_score'] = pd.DataFrame(predictions)\n",
        "    df_output[['imdb_score','predicted_imdb_score']].to_csv('imdb_score@knn.csv',index=False)\n",
        "    MAE= metrics.mean_absolute_error(y_test,predictions)\n",
        "    MSE=metrics.mean_squared_error(y_test,predictions)\n",
        "    RMS= np.sqrt(metrics.mean_squared_error(y_test,predictions))\n",
        "    r_square = metrics.r2_score(y_test,predictions)\n",
        "    print('MAE= ', metrics.mean_absolute_error(y_test,predictions))\n",
        "    print('MSE= ', metrics.mean_squared_error(y_test,predictions))\n",
        "    print('RMS= ', np.sqrt(metrics.mean_squared_error(y_test,predictions)))\n",
        "    print('\\nr_square:', r_square)\n",
        "    print(\"\\nPredicted values on the New Data:\\n\\n\",df_output)\n",
        "    \n",
        "LR()"
      ],
      "execution_count": 55,
      "outputs": [
        {
          "output_type": "stream",
          "text": [
            "MAE=  0.6730357407306093\n",
            "MSE=  0.7967052665789284\n",
            "RMS=  0.8925834787732341\n",
            "\n",
            "r_square: 0.314556843082069\n",
            "\n",
            "Predicted values on the New Data:\n",
            "\n",
            "       imdb_score  predicted_imdb_score\n",
            "0            7.9              7.146369\n",
            "1            7.1              6.126544\n",
            "2            6.8              6.563556\n",
            "3            8.5              6.139367\n",
            "5            6.6              6.924195\n",
            "...          ...                   ...\n",
            "5034         6.3                   NaN\n",
            "5035         6.9                   NaN\n",
            "5037         6.4                   NaN\n",
            "5038         7.7                   NaN\n",
            "5042         6.6                   NaN\n",
            "\n",
            "[4695 rows x 2 columns]\n"
          ],
          "name": "stdout"
        }
      ]
    },
    {
      "cell_type": "code",
      "metadata": {
        "id": "MzduR-bjXfC5"
      },
      "source": [
        ""
      ],
      "execution_count": null,
      "outputs": []
    }
  ]
}